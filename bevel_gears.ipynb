{
 "cells": [
  {
   "cell_type": "code",
   "execution_count": 1,
   "outputs": [],
   "source": [
    "import math"
   ],
   "metadata": {
    "collapsed": false
   }
  },
  {
   "cell_type": "markdown",
   "source": [
    "# Bevel Gears\n",
    "\n",
    "Start by setting problem constants. If you don't know some of these, use the guidelines for spur gears."
   ],
   "metadata": {
    "collapsed": false
   }
  },
  {
   "cell_type": "code",
   "execution_count": 2,
   "outputs": [],
   "source": [
    "n_P = 300               # rpm\n",
    "P = 3                   # hp\n",
    "phi_d = 20              # degrees\n",
    "N_P = 15                # teeth\n",
    "N_G = 45                # teeth\n",
    "P_d = 10                # teeth\n",
    "F = 1.25                # inch\n",
    "\n",
    "phi = phi_d * 0.01745   # rad"
   ],
   "metadata": {
    "collapsed": false
   }
  },
  {
   "cell_type": "markdown",
   "source": [
    "Find $K_o$ for your system.\n",
    "![Example Machines](images/shock_factor_machines.png)\n",
    "![Mott Table 9-1](images/shock_factor_table.png)"
   ],
   "metadata": {
    "collapsed": false
   }
  },
  {
   "cell_type": "code",
   "execution_count": 3,
   "metadata": {
    "collapsed": true
   },
   "outputs": [
    {
     "name": "stdout",
     "output_type": "stream",
     "text": [
      "Pinion Pitch Diameter: 1.5 in\n",
      "Gear Pitch Diameter: 4.5 in\n",
      "Center Distance: 3.0 in\n",
      "Face Width is: 1.25 in\n",
      "gamma = 18.4384 degrees\n",
      "GAMMA = 71.5786 degrees\n",
      "r_m = 0.5524 in\n",
      "T = 630.0 lb * in\n",
      "Pitch Line Velocity: 117.81 ft/min\n",
      "Tangential Force: 1140.57 lbf\n",
      "Axial Force: 131.25 lbf\n",
      "Radial Force: 393.75 lbf\n",
      "From Table 9-1, K_o=2.0\n",
      "P_des = (P)(K_o) = 6.0 hp\n",
      "Velocity Ratio, VR = 3.000\n",
      "Gear Speed, n_G = 100.00 rpm\n"
     ]
    }
   ],
   "source": [
    "K_o = 2.00\n",
    "P_des = P * K_o\n",
    "VR = N_G / N_P\n",
    "n_G = n_P / VR\n",
    "\n",
    "D_P = N_P / P_d               # inch\n",
    "D_G = N_G / P_d               # inch\n",
    "C = (N_P + N_G) / (2 * P_d)   # inch\n",
    "V = math.pi * D_P * n_P / 12  # ft/min\n",
    "\n",
    "gamma = math.atan(N_P / N_G)  # rad\n",
    "GAMMA = math.atan(N_G / N_P)  # rad\n",
    "gamma_d = gamma / 0.01745     # degrees\n",
    "GAMMA_d = GAMMA / 0.01745     # degrees\n",
    "\n",
    "r_m = (1./2.) * (D_P - F  * math.sin(gamma))    # inch\n",
    "T = 63000 * P / n_P                             # lb * in\n",
    "\n",
    "W_t = T / r_m                                   # lbf\n",
    "W_r = W_t * math.tan(phi) * math.cos(gamma)     # lbf\n",
    "W_a = W_t * math.tan(phi) * math.sin(gamma)     # lbf\n",
    "\n",
    "print(f\"Pinion Pitch Diameter: {D_P} in\")\n",
    "print(f\"Gear Pitch Diameter: {D_G} in\")\n",
    "print(f\"Center Distance: {C} in\")\n",
    "print(f\"Face Width is: {F} in\")\n",
    "print(f\"gamma = {gamma_d:.4f} degrees\")\n",
    "print(f\"GAMMA = {GAMMA_d:.4f} degrees\")\n",
    "print(f\"r_m = {r_m:.4f} in\")\n",
    "print(f\"T = {T} lb * in\")\n",
    "print(f\"Pitch Line Velocity: {V:.2f} ft/min\")\n",
    "print(f\"Tangential Force: {W_t:.2f} lbf\")\n",
    "print(f\"Axial Force: {W_a:.2f} lbf\")\n",
    "print(f\"Radial Force: {W_r:.2f} lbf\")\n",
    "print(f\"From Table 9-1, K_o={K_o}\")\n",
    "print(f\"P_des = (P)(K_o) = {P_des} hp\")\n",
    "print(f\"Velocity Ratio, VR = {VR:.3f}\")\n",
    "print(f\"Gear Speed, n_G = {n_G:.2f} rpm\")"
   ]
  },
  {
   "cell_type": "markdown",
   "source": [
    "Set K_mb = 1 for both gears straddle mounted, 1.1 for one, 1.25 for neither. Find K_s using Figure 10-13, find K_m from Figure 10-14, and find J from Figure 10-15. Find A_v from Table 9-5 if not given to use with Figure 9-16 to find K_v. Use Figure 10-19 to find I. Use Table 9-12 to estimate lifetime if it isn't provided.\n",
    "![Figure 10-13](images/figure_10_13.png)\n",
    "![Figure 10-14](images/figure_10_14.png)\n",
    "![Figure 10-15](images/figure_10_15.png)\n",
    "![Table 9-5](images/table_9_5.png)\n",
    "![Figure 9-16](images/figure_9_16.png)\n",
    "![Figure 10-19](images/figure_10_19.png)\n",
    "![Table 9-12](images/table_9_12.png)"
   ],
   "metadata": {
    "collapsed": false
   }
  },
  {
   "cell_type": "code",
   "execution_count": 4,
   "outputs": [
    {
     "name": "stdout",
     "output_type": "stream",
     "text": [
      "N_cP = 0.1800 x 10^8 cycles\n",
      "N_cG = 0.0600 x 10^8 cycles\n",
      "K_m = 1.2556\n",
      "C_s = 0.59375\n"
     ]
    }
   ],
   "source": [
    "K_mb = 1.25\n",
    "J_P = 0.235\n",
    "J_G = 0.180\n",
    "K_m = K_mb + 0.0036 * math.pow(F, 2)\n",
    "K_v = 1.1\n",
    "K_s = 0.508\n",
    "C_s = 0.125 * F + 0.4375\n",
    "I = 0.074\n",
    "\n",
    "lifetime = 1000  # hr\n",
    "N_cP = 60 * lifetime * n_P\n",
    "N_cG = 60 * lifetime * n_G\n",
    "\n",
    "print(f\"N_cP = {N_cP / 1E8:.4f} x 10^8 cycles\")\n",
    "print(f\"N_cG = {N_cG / 1E8:.4f} x 10^8 cycles\")\n",
    "print(f\"K_m = {K_m:.4f}\")\n",
    "print(f\"C_s = {C_s}\")"
   ],
   "metadata": {
    "collapsed": false
   }
  },
  {
   "cell_type": "markdown",
   "source": [
    "Now, use Figure 10-16 to find K_L. Use Figure 10-20 to find C_L.\n",
    "![Figure 10-16](images/figure_10_16.png)\n",
    "![Figure 10-20](images/figure_10_20.png)"
   ],
   "metadata": {
    "collapsed": false
   }
  },
  {
   "cell_type": "code",
   "execution_count": 5,
   "outputs": [],
   "source": [
    "K_L = 1.007\n",
    "C_L = 1.274"
   ],
   "metadata": {
    "collapsed": false
   }
  },
  {
   "cell_type": "markdown",
   "source": [
    "Now for our assumptions. Choose C_xc = 1.5 for properly crowned teeth. Choose SF = 1.00. Choose K_R = C_R = 1.00 for 99% reliability (Mott Table 10-3 if not). Choose K_T = 1.00. Choose steel for C_P = 2300. Choose K_x = 1.00."
   ],
   "metadata": {
    "collapsed": false
   }
  },
  {
   "cell_type": "code",
   "execution_count": 6,
   "outputs": [],
   "source": [
    "C_xc = 1.5\n",
    "SF = 1.00\n",
    "K_R = 1.00\n",
    "C_R = 1.00\n",
    "K_T = 1.00\n",
    "C_P = 2300\n",
    "K_x = 1.00"
   ],
   "metadata": {
    "collapsed": false
   }
  },
  {
   "cell_type": "code",
   "execution_count": 9,
   "outputs": [
    {
     "name": "stdout",
     "output_type": "stream",
     "text": [
      "Pinion Bending Stress Number, S_tP: 54486.467338619266 psi\n",
      "Gear Bending Stress Number, S_tG: 71135.1101365307 psi\n",
      "Allowable Pinion Bending Stress Number, S_atP: 54107.71334520285 psi\n",
      "Allowable Gear Bending Stress Number, S_atG: 70640.62575623704 psi\n",
      "Pinion Contact Stress Number, S_cP: 233126.7150476808 psi\n",
      "Gear Contact Stress Number, S_cG: 134595.7716880717 psi\n",
      "Allowable Pinion Contact Stress Number, S_acP: 182988.00239221414 psi\n",
      "Allowable Gear Contact Stress Number, S_acG: 105648.17243961671 psi\n",
      "Required Grade 1 Hardness for Pinion Contact: 467.3548457249681\n",
      "Required Grade 1 Hardness for Pinion Bending: 1181.9934851182468\n",
      "Required Grade 1 Hardness for Gear Contact: 240.55182533611938\n",
      "Required Grade 1 Hardness for Gear Bending: 1557.741494459933\n",
      "Required Grade 2 Hardness for Pinion Contact: 421.9417007486638\n",
      "Required Grade 2 Hardness for Pinion Bending: 1002.660694691726\n",
      "Required Grade 2 Hardness for Gear Contact: 209.23589779872583\n",
      "Required Grade 2 Hardness for Gear Bending: 1347.096369921605\n"
     ]
    }
   ],
   "source": [
    "S_tP = W_t * P_d * K_o * K_s * K_v * K_m / (F * K_x * J_P)\n",
    "S_tG = W_t * P_d * K_o * K_s * K_v * K_m / (F * K_x * J_G)\n",
    "\n",
    "print(f\"Pinion Bending Stress Number, S_tP: {S_tP} psi\")\n",
    "print(f\"Gear Bending Stress Number, S_tG: {S_tG} psi\")\n",
    "\n",
    "S_atP = S_tP * SF * K_T * K_R / K_L\n",
    "S_atG = S_tG * SF * K_T * K_R / K_L\n",
    "\n",
    "print(f\"Allowable Pinion Bending Stress Number, S_atP: {S_atP} psi\")\n",
    "print(f\"Allowable Gear Bending Stress Number, S_atG: {S_atG} psi\")\n",
    "\n",
    "S_cP = C_P * math.sqrt(W_t * K_o * K_m * K_s * K_v * C_s * C_xc / (F * D_P * I))\n",
    "S_cG = C_P * math.sqrt(W_t * K_o * K_m * K_s * K_v * C_s * C_xc / (F * D_G * I))\n",
    "\n",
    "print(f\"Pinion Contact Stress Number, S_cP: {S_cP} psi\")\n",
    "print(f\"Gear Contact Stress Number, S_cG: {S_cG} psi\")\n",
    "\n",
    "S_acP = S_cP * SF * K_T * C_R / C_L\n",
    "S_acG = S_cG * SF * K_T * C_R / C_L\n",
    "\n",
    "print(f\"Allowable Pinion Contact Stress Number, S_acP: {S_acP} psi\")\n",
    "print(f\"Allowable Gear Contact Stress Number, S_acG: {S_acG} psi\")\n",
    "\n",
    "contact_hb_grade_1_pinion = (S_acP / 1000 - 23.62) / 0.341\n",
    "contact_hb_grade_1_gear = (S_acG / 1000 - 23.62) / 0.341\n",
    "\n",
    "contact_hb_grade_2_pinion = (S_acP / 1000 - 29.57) / 0.3636\n",
    "contact_hb_grade_2_gear = (S_acG / 1000 - 29.57) / 0.3636\n",
    "\n",
    "bending_hb_grade_1_pinion = (S_atP / 1000 - 2.10) / 0.044\n",
    "bending_hb_grade_1_gear = (S_atG / 1000 - 2.10) / 0.044\n",
    "\n",
    "bending_hb_grade_2_pinion = (S_atP / 1000 - 5.980) / 0.048\n",
    "bending_hb_grade_2_gear = (S_atG / 1000 - 5.980) / 0.048\n",
    "\n",
    "print(f\"Required Grade 1 Hardness for Pinion Contact: {contact_hb_grade_1_pinion}\")\n",
    "print(f\"Required Grade 1 Hardness for Pinion Bending: {bending_hb_grade_1_pinion}\")\n",
    "print(f\"Required Grade 1 Hardness for Gear Contact: {contact_hb_grade_1_gear}\")\n",
    "print(f\"Required Grade 1 Hardness for Gear Bending: {bending_hb_grade_1_gear}\")\n",
    "print(f\"Required Grade 2 Hardness for Pinion Contact: {contact_hb_grade_2_pinion}\")\n",
    "print(f\"Required Grade 2 Hardness for Pinion Bending: {bending_hb_grade_2_pinion}\")\n",
    "print(f\"Required Grade 2 Hardness for Gear Contact: {contact_hb_grade_2_gear}\")\n",
    "print(f\"Required Grade 2 Hardness for Gear Bending: {bending_hb_grade_2_gear}\")"
   ],
   "metadata": {
    "collapsed": false
   }
  },
  {
   "cell_type": "markdown",
   "source": [
    "Now, identify a material and specify it's Birnell hardness. Safety factors are calculated assuming grade 1 steel."
   ],
   "metadata": {
    "collapsed": false
   }
  },
  {
   "cell_type": "code",
   "execution_count": 12,
   "outputs": [
    {
     "name": "stdout",
     "output_type": "stream",
     "text": [
      "Final Adjusted Contact Stress Strength, S_acP: 389534.0 psi\n",
      "Final Adjusted Bending Stress Strength, S_atP: 53500.0 psi\n",
      "Pinion SF: 0.9887684526358435\n",
      "Gear SF: 0.7573545594657525\n",
      "Pinion SH: 2.128740654619956\n",
      "Pinion SH: 3.6870869699391955\n"
     ]
    }
   ],
   "source": [
    "H_B = 990\n",
    "\n",
    "S_ac_final = 1000 * (H_B * 0.341 + 23.62)\n",
    "S_at_final = 1000 * (H_B * 0.044 + 2.10)\n",
    "\n",
    "# S_ac_final = 1000 * (H_B * 0.3636 + 29.57)\n",
    "# S_at_final = 1000 * (H_B * 0.048 + 5.980)\n",
    "\n",
    "print(f\"Final Adjusted Contact Stress Strength, S_acP: {S_ac_final} psi\")\n",
    "print(f\"Final Adjusted Bending Stress Strength, S_atP: {S_at_final} psi\")\n",
    "\n",
    "SF_P_final = S_at_final * K_L / (S_tP * K_R * K_T)\n",
    "SF_G_final = S_at_final * K_L / (S_tG * K_R * K_T)\n",
    "\n",
    "SH_P_final = S_ac_final * C_L / (S_cP * C_R * K_T)\n",
    "SH_G_final = S_ac_final * C_L / (S_cG * C_R * K_T)\n",
    "\n",
    "print(f\"Pinion SF: {SF_P_final}\")\n",
    "print(f\"Gear SF: {SF_G_final}\")\n",
    "print(f\"Pinion SH: {SH_P_final}\")\n",
    "print(f\"Pinion SH: {SH_G_final}\")"
   ],
   "metadata": {
    "collapsed": false
   }
  },
  {
   "cell_type": "markdown",
   "source": [],
   "metadata": {
    "collapsed": false
   }
  }
 ],
 "metadata": {
  "kernelspec": {
   "display_name": "Python 3",
   "language": "python",
   "name": "python3"
  },
  "language_info": {
   "codemirror_mode": {
    "name": "ipython",
    "version": 2
   },
   "file_extension": ".py",
   "mimetype": "text/x-python",
   "name": "python",
   "nbconvert_exporter": "python",
   "pygments_lexer": "ipython2",
   "version": "2.7.6"
  }
 },
 "nbformat": 4,
 "nbformat_minor": 0
}
