{
 "cells": [
  {
   "cell_type": "code",
   "execution_count": 1,
   "outputs": [],
   "source": [
    "import math"
   ],
   "metadata": {
    "collapsed": false
   }
  },
  {
   "cell_type": "markdown",
   "source": [
    "# Worm Gear\n",
    "\n",
    "This is less of a design guide than a collection of equations."
   ],
   "metadata": {
    "collapsed": false
   }
  },
  {
   "cell_type": "code",
   "execution_count": 15,
   "outputs": [],
   "source": [
    "N_w = 1         # Number of worm threads\n",
    "D_w = 1.250     # in\n",
    "P_d = 10        # teeth/inch\n",
    "phi_n_d = 14.5  # degrees\n",
    "N_G = 40        # teeth\n",
    "F = 0.625       # in\n",
    "n_G = 30        # rpm\n",
    "\n",
    "phi_n = phi_n_d * 0.01745 # rad"
   ],
   "metadata": {
    "collapsed": false
   }
  },
  {
   "cell_type": "code",
   "execution_count": 7,
   "metadata": {
    "collapsed": true
   },
   "outputs": [
    {
     "name": "stdout",
     "output_type": "stream",
     "text": [
      "Velocity Ratio, VR = 40.0\n",
      "n_w = 1200.0 rpm\n",
      "D_G = 4.0 in\n",
      "p = p_x = 0.3142 in\n"
     ]
    }
   ],
   "source": [
    "VR = N_G / N_w\n",
    "n_w = n_G * VR                  # rpm\n",
    "D_G = N_G / P_d                 # inch\n",
    "p = p_x = math.pi * D_G / N_G   # inch\n",
    "\n",
    "print(f\"Velocity Ratio, VR = {VR}\")\n",
    "print(f\"n_w = {n_w:.1f} rpm\")\n",
    "print(f\"D_G = {D_G} in\")\n",
    "print(f\"p = p_x = {p_x:.4f} in\")"
   ]
  },
  {
   "cell_type": "code",
   "execution_count": 10,
   "outputs": [
    {
     "name": "stdout",
     "output_type": "stream",
     "text": [
      "Lead, L = 0.31416 in\n",
      "Lead Angle, lambda = 4.585 degrees\n"
     ]
    }
   ],
   "source": [
    "L = N_w * p_x               # inch\n",
    "l = L / (math.pi * D_w)     # degrees\n",
    "l_d = l / 0.01745           # rad\n",
    "\n",
    "print(f\"Lead, L = {L:.5f} in\")\n",
    "print(f\"Lead Angle, lambda = {l_d:.3f} degrees\")"
   ],
   "metadata": {
    "collapsed": false
   }
  },
  {
   "cell_type": "code",
   "execution_count": 20,
   "outputs": [
    {
     "name": "stdout",
     "output_type": "stream",
     "text": [
      "Tangential Speed, v_t = 31.415926535897928 ft/min\n",
      "Sliding Speed, v_s = 393.11827369340494 ft/min\n"
     ]
    }
   ],
   "source": [
    "v_t = math.pi * D_G * n_G / 12  # ft/min\n",
    "v_s = v_t / math.sin(l)         # ft/min\n",
    "\n",
    "print(f\"Tangential Speed, v_t = {v_t} ft/min\")\n",
    "print(f\"Sliding Speed, v_s = {v_s} ft/min\")"
   ],
   "metadata": {
    "collapsed": false
   }
  },
  {
   "cell_type": "markdown",
   "source": [
    "Use this to find friction.\n",
    "![Wormgear Friction Equation](images/wormgear_friction.png)"
   ],
   "metadata": {
    "collapsed": false
   }
  },
  {
   "cell_type": "code",
   "execution_count": 21,
   "outputs": [
    {
     "name": "stdout",
     "output_type": "stream",
     "text": [
      "Friction Coefficient, f = 0.012576026688759073\n"
     ]
    }
   ],
   "source": [
    "# f = 0.15\n",
    "# f = 0.124 * math.exp(-0.074 * math.pow(v_s, 0.645))\n",
    "f = 0.103 * math.exp(-0.11 * math.pow(v_s, 0.645)) + 0.012\n",
    "\n",
    "print(f\"Friction Coefficient, f = {f}\")"
   ],
   "metadata": {
    "collapsed": false
   }
  },
  {
   "cell_type": "markdown",
   "source": [
    "If you have T,"
   ],
   "metadata": {
    "collapsed": false
   }
  },
  {
   "cell_type": "code",
   "execution_count": 22,
   "outputs": [
    {
     "name": "stdout",
     "output_type": "stream",
     "text": [
      "Tangential Force: 462.0 lbf\n",
      "Axial Force: 37.09066593084134 lbf\n",
      "Radial Force: 119.96601110981557 lbf\n",
      "Friction Force: 6.0267365431844295 lbf\n"
     ]
    }
   ],
   "source": [
    "T = 924  # lb * in\n",
    "\n",
    "W_t = 2 * T / D_G\n",
    "W_a = (W_t * math.cos(phi_n) * math.sin(l) + f * math.cos(l)) / (math.cos(phi_n) * math.cos(l) - f * math.sin(l))\n",
    "W_r = (W_t * math.sin(phi_n)) / (math.cos(phi_n) * math.cos(l) - f * math.sin(l))\n",
    "W_f = f * W_t / (math.cos(l) * math.cos(phi_n) - f * math.sin(l))\n",
    "\n",
    "print(f\"Tangential Force: {W_t} lbf\")\n",
    "print(f\"Axial Force: {W_a} lbf\")\n",
    "print(f\"Radial Force: {W_r} lbf\")\n",
    "print(f\"Friction Force: {W_f} lbf\")"
   ],
   "metadata": {
    "collapsed": false
   }
  },
  {
   "cell_type": "code",
   "execution_count": 24,
   "outputs": [
    {
     "name": "stdout",
     "output_type": "stream",
     "text": [
      "Friction Power, P_F = 0.07179455351095823 hp\n",
      "Output Power, P_o = 0.44 hp\n",
      "Input Power, P_i = 0.5117945535109583 hp\n",
      "Efficiency, eta = 85.9720%\n"
     ]
    }
   ],
   "source": [
    "P_F = v_s * W_f / 33000     # hp\n",
    "P_o = T * n_G / 63000       # hp\n",
    "P_i = P_o + P_F             # hp\n",
    "\n",
    "e = P_o / P_i\n",
    "\n",
    "print(f\"Friction Power, P_F = {P_F} hp\")\n",
    "print(f\"Output Power, P_o = {P_o} hp\")\n",
    "print(f\"Input Power, P_i = {P_i} hp\")\n",
    "print(f\"Efficiency, eta = {e * 100:.4f}%\")"
   ],
   "metadata": {
    "collapsed": false
   }
  },
  {
   "cell_type": "markdown",
   "source": [
    "Use Table 10-5 to select Y.\n",
    "![Table 10-5](images/table_10_5.png)"
   ],
   "metadata": {
    "collapsed": false
   }
  },
  {
   "cell_type": "code",
   "execution_count": 25,
   "outputs": [
    {
     "name": "stdout",
     "output_type": "stream",
     "text": [
      "Dynamic Load, W_d = 474.0951317163207 lbd\n",
      "Normal Circular Pitch, p_n = 0.313154491760608 in\n",
      "Gear Teeth Stress, sigma = 24222.938859391834 psi\n"
     ]
    }
   ],
   "source": [
    "y = 0.1\n",
    "\n",
    "K_v = 1200 / (1200 + v_t)\n",
    "W_d = W_t / K_v                 # lbf\n",
    "p_n = p * math.cos(l)           # inch\n",
    "sigma = W_d / (y * F * p_n)     # psi\n",
    "\n",
    "print(f\"Dynamic Load, W_d = {W_d} lbd\")\n",
    "print(f\"Normal Circular Pitch, p_n = {p_n} in\")\n",
    "print(f\"Gear Teeth Stress, sigma = {sigma} psi\")"
   ],
   "metadata": {
    "collapsed": false
   }
  },
  {
   "cell_type": "markdown",
   "source": [
    "Identify C_s with the below data. Use Equation 15-36 to find C_m where mG is the gear ratio and Equation 15-37 to find C_v.\n",
    "![Wormgear Materials Data](images/wormgear_materials_strength.png)\n",
    "![Equation 15-36](images/equation_15_36.png)\n",
    "![Equation 15-37](images/equation_15_37.png)"
   ],
   "metadata": {
    "collapsed": false
   }
  },
  {
   "cell_type": "code",
   "execution_count": 27,
   "outputs": [
    {
     "name": "stdout",
     "output_type": "stream",
     "text": [
      "Effective face width, F_e = 0.4167 in, as F < Dw/3 is False.\n",
      "Rated tangential load, W_tR = 454.45 lbf\n"
     ]
    }
   ],
   "source": [
    "C_s = 1000\n",
    "C_m = 0.842\n",
    "C_v = 0.4273\n",
    "\n",
    "F_e = F if F < (D_w / 3) else D_w / 3\n",
    "\n",
    "W_tR = C_s * math.pow(D_G, 0.8) * F_e * C_m * C_v\n",
    "\n",
    "print(f\"Effective face width, F_e = {F_e:.4f} in, as F < Dw/3 is {F < (D_w / 3)}.\")\n",
    "print(f\"Rated tangential load, W_tR = {W_tR:.2f} lbf\")"
   ],
   "metadata": {
    "collapsed": false
   }
  }
 ],
 "metadata": {
  "kernelspec": {
   "display_name": "Python 3",
   "language": "python",
   "name": "python3"
  },
  "language_info": {
   "codemirror_mode": {
    "name": "ipython",
    "version": 2
   },
   "file_extension": ".py",
   "mimetype": "text/x-python",
   "name": "python",
   "nbconvert_exporter": "python",
   "pygments_lexer": "ipython2",
   "version": "2.7.6"
  }
 },
 "nbformat": 4,
 "nbformat_minor": 0
}
