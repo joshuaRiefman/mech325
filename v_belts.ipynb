{
 "cells": [
  {
   "cell_type": "code",
   "execution_count": 1,
   "outputs": [],
   "source": [
    "import math"
   ],
   "metadata": {
    "collapsed": false
   }
  },
  {
   "cell_type": "markdown",
   "source": [
    "# V Belts\n",
    "\n",
    "First, define constants."
   ],
   "metadata": {
    "collapsed": false
   }
  },
  {
   "cell_type": "code",
   "execution_count": 2,
   "metadata": {
    "collapsed": true
   },
   "outputs": [],
   "source": [
    "H = 40           #  hp\n",
    "n_1 = 1500  # larger, rpm\n",
    "n_2 = 550   # smaller, rpm"
   ]
  },
  {
   "cell_type": "markdown",
   "source": [
    "Use Table 7-1 to find service factor.\n",
    "\n",
    "![Table 7-1](images/table_7_1.png)"
   ],
   "metadata": {
    "collapsed": false
   }
  },
  {
   "cell_type": "code",
   "execution_count": 3,
   "outputs": [
    {
     "name": "stdout",
     "output_type": "stream",
     "text": [
      "Design Power, H_d = 56.0 hp\n",
      "Nominal VR = 2.727272727272727\n"
     ]
    }
   ],
   "source": [
    "K_s = 1.4\n",
    "\n",
    "H_d = H * K_s  # hp\n",
    "\n",
    "nominal_VR = n_1 / n_2\n",
    "\n",
    "print(f\"Design Power, H_d = {H_d} hp\")\n",
    "print(f\"Nominal VR = {nominal_VR}\")"
   ],
   "metadata": {
    "collapsed": false
   }
  },
  {
   "cell_type": "markdown",
   "source": [
    "Use Table 7-13 to select a belt type.\n",
    "\n",
    "![Table 7-13](images/table_7_13.png)"
   ],
   "metadata": {
    "collapsed": false
   }
  },
  {
   "cell_type": "markdown",
   "source": [
    "Tentatively, we select a belt speed of 4000ft/min as the recommended max is 5000ft/min and the hard max is 6500ft/min."
   ],
   "metadata": {
    "collapsed": false
   }
  },
  {
   "cell_type": "code",
   "execution_count": 4,
   "outputs": [
    {
     "name": "stdout",
     "output_type": "stream",
     "text": [
      "D_1 = 10.185916357881302 in\n"
     ]
    }
   ],
   "source": [
    "v_b = 4000 # ft/min\n",
    "D_1 = 24 * v_b / (n_1 * (2 * math.pi)) # in\n",
    "\n",
    "print(f\"D_1 = {D_1} in\")"
   ],
   "metadata": {
    "collapsed": false
   }
  },
  {
   "cell_type": "markdown",
   "source": [
    "Select the closest standard sheave size for D_1 from the nominal value using Figure 7-14–16 depending on your belt.\n",
    "![Figure 7-14](images/figure_7_14.png)\n",
    "![Figure 7-15](images/figure_7_15.png)\n",
    "![Figure 7-16](images/figure_7_16.png)"
   ],
   "metadata": {
    "collapsed": false
   }
  },
  {
   "cell_type": "code",
   "execution_count": 5,
   "outputs": [
    {
     "name": "stdout",
     "output_type": "stream",
     "text": [
      "Nominal D_2 = 27.818181818181813 in\n"
     ]
    }
   ],
   "source": [
    "D_1 = 10.2 # inch\n",
    "\n",
    "print(f\"Nominal D_2 = {D_1 * nominal_VR} in\")"
   ],
   "metadata": {
    "collapsed": false
   }
  },
  {
   "cell_type": "markdown",
   "source": [
    "Similarly, select the standard sheave size closest to the nominal D_2."
   ],
   "metadata": {
    "collapsed": false
   }
  },
  {
   "cell_type": "code",
   "execution_count": 6,
   "outputs": [
    {
     "name": "stdout",
     "output_type": "stream",
     "text": [
      "Velocity Ratio, VR = 2.7157\n",
      "Output Speed, n_2 = 552.35 rpm\n",
      "Belt Speed, v_b = 4005.5 ft/min\n"
     ]
    }
   ],
   "source": [
    "D_2 = 27.7  # inch\n",
    "\n",
    "VR = D_2 / D_1\n",
    "n_2 = 1500 / VR\n",
    "v_b = D_1 * n_1 * 2 * math.pi / 24\n",
    "\n",
    "print(f\"Velocity Ratio, VR = {VR:.4f}\")\n",
    "print(f\"Output Speed, n_2 = {n_2:.2f} rpm\")\n",
    "print(f\"Belt Speed, v_b = {v_b:.1f} ft/min\")"
   ],
   "metadata": {
    "collapsed": false
   }
  },
  {
   "cell_type": "markdown",
   "source": [
    "Use Figure 17-15 to approximate the power per belt. Use Figure 17-17 to add extra power."
   ],
   "metadata": {
    "collapsed": false
   }
  },
  {
   "cell_type": "code",
   "execution_count": 7,
   "outputs": [
    {
     "name": "stdout",
     "output_type": "stream",
     "text": [
      "Total Power Per Belt = 26.530\n",
      "Belts Required = 3\n",
      "Choose a center distance between 27.7 and 113.7, inches\n"
     ]
    }
   ],
   "source": [
    "initial_power_per_belt = 25                                 # hp\n",
    "additional_power = 1.53                                     # hp\n",
    "power_per_belt = initial_power_per_belt + additional_power  # hp\n",
    "belts_required = math.ceil(H_d / power_per_belt)\n",
    "\n",
    "center_distance_min = D_2\n",
    "center_distance_max = 3 * (D_2 + D_1)\n",
    "\n",
    "print(f\"Total Power Per Belt = {power_per_belt:.3f}\")\n",
    "print(f\"Belts Required = {belts_required}\")\n",
    "print(f\"Choose a center distance between {center_distance_min:.1f} and {center_distance_max:.1f}, inches\")"
   ],
   "metadata": {
    "collapsed": false
   }
  },
  {
   "cell_type": "markdown",
   "source": [
    "Choose a center distance, aiming for a bit higher than the minimum.\n",
    "![V-Belt Trial CD](images/v_belt_trial_cd.png)\n",
    "![V-Belt Length](images/v_belt_length.png)"
   ],
   "metadata": {
    "collapsed": false
   }
  },
  {
   "cell_type": "code",
   "execution_count": 8,
   "outputs": [
    {
     "name": "stdout",
     "output_type": "stream",
     "text": [
      "Belt Length, L = 131.6905 in\n"
     ]
    }
   ],
   "source": [
    "CD = 35  # inch\n",
    "\n",
    "L = (2 * CD) + (1.57 * (D_2 + D_1)) + (math.pow(D_2 - D_1, 2) / (4 * CD))  # inch\n",
    "\n",
    "print(f\"Belt Length, L = {L} in\")"
   ],
   "metadata": {
    "collapsed": false
   }
  },
  {
   "cell_type": "markdown",
   "source": [
    "Use Table 7-2 to select a standard belt length.\n",
    "\n",
    "![Table 7-2](images/table_7_2.png)\n",
    "![V-Belt CD](images/v_belt_cd.png)\n",
    "![V-Belt Wrap Angles](images/v_belt_wrap_angles.png)"
   ],
   "metadata": {
    "collapsed": false
   }
  },
  {
   "cell_type": "code",
   "execution_count": 9,
   "outputs": [
    {
     "name": "stdout",
     "output_type": "stream",
     "text": [
      "Center Distance, CD = 31.5 in\n",
      "Small Sheave Wrap Angle, theta_1 = 147.77498628850074 degrees\n",
      "Large Sheave Wrap Angle, theta_2 = 212.22501371149926 degrees\n"
     ]
    }
   ],
   "source": [
    "L = 125  # inch\n",
    "\n",
    "B = 4 * L - 6.28 * (D_2 + D_1)\n",
    "CD = (B + math.sqrt(math.pow(B, 2) - 32 * math.pow(D_2 - D_1, 2))) / 16\n",
    "\n",
    "theta_1 = 180 - (2 * math.asin((D_2 - D_1) / (2 * CD))) / 0.01745  # degrees\n",
    "theta_2 = 180 + (2 * math.asin((D_2 - D_1) / (2 * CD))) / 0.01745  # degrees\n",
    "\n",
    "print(f\"Center Distance, CD = {CD:.1f} in\")\n",
    "print(f\"Small Sheave Wrap Angle, theta_1 = {theta_1} degrees\")\n",
    "print(f\"Large Sheave Wrap Angle, theta_2 = {theta_2} degrees\")"
   ],
   "metadata": {
    "collapsed": false
   }
  },
  {
   "cell_type": "markdown",
   "source": [
    "Use Figure 7-18 to find C_theta, and Figure 7-19 to find C_L.\n",
    "\n",
    "![Figure 7-18](images/figure_7_18.png)\n",
    "![Figure 7-19](images/figure_7_18.png)"
   ],
   "metadata": {
    "collapsed": false
   }
  },
  {
   "cell_type": "code",
   "execution_count": 12,
   "outputs": [
    {
     "name": "stdout",
     "output_type": "stream",
     "text": [
      "Belts Required = 3\n",
      "Adjusted Power = 24.14 hp\n",
      "Safety Factor = 1.293\n"
     ]
    }
   ],
   "source": [
    "C_theta = 0.91\n",
    "C_L = 1.00\n",
    "\n",
    "H_a = C_L * C_theta * power_per_belt\n",
    "belts_required = math.ceil(H_d / H_a)\n",
    "\n",
    "FS = (H_a * belts_required) / H_d\n",
    "\n",
    "print(f\"Belts Required = {belts_required}\")\n",
    "print(f\"Adjusted Power = {H_a:.2f} hp\")\n",
    "print(f\"Safety Factor = {FS:.3f}\")"
   ],
   "metadata": {
    "collapsed": false
   }
  },
  {
   "cell_type": "code",
   "execution_count": null,
   "outputs": [],
   "source": [],
   "metadata": {
    "collapsed": false
   }
  }
 ],
 "metadata": {
  "kernelspec": {
   "display_name": "Python 3",
   "language": "python",
   "name": "python3"
  },
  "language_info": {
   "codemirror_mode": {
    "name": "ipython",
    "version": 2
   },
   "file_extension": ".py",
   "mimetype": "text/x-python",
   "name": "python",
   "nbconvert_exporter": "python",
   "pygments_lexer": "ipython2",
   "version": "2.7.6"
  }
 },
 "nbformat": 4,
 "nbformat_minor": 0
}
