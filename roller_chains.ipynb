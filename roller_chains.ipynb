{
 "cells": [
  {
   "cell_type": "code",
   "execution_count": 8,
   "outputs": [],
   "source": [
    "import math"
   ],
   "metadata": {
    "collapsed": false
   }
  },
  {
   "cell_type": "markdown",
   "source": [
    "# Roller Chains\n",
    "\n",
    "If you are using a roller chain to hold up a load, use Table 7-12 and use maximum 10% of the tensile strength."
   ],
   "metadata": {
    "collapsed": false
   }
  },
  {
   "cell_type": "code",
   "execution_count": 9,
   "metadata": {
    "collapsed": true
   },
   "outputs": [],
   "source": [
    "H = 40      # hp\n",
    "n_1 = 500   # faster, rpm\n",
    "n_2 = 250   # slower, rpm"
   ]
  },
  {
   "cell_type": "markdown",
   "source": [
    "Select a service factor using Table 7-17.\n",
    "\n",
    "![Table 7-17](images/table_7_17.png)"
   ],
   "metadata": {
    "collapsed": false
   }
  },
  {
   "cell_type": "code",
   "execution_count": 10,
   "outputs": [
    {
     "name": "stdout",
     "output_type": "stream",
     "text": [
      "Design Power, H_d = 56.0 hp\n",
      "Nominal VR = 2.0\n"
     ]
    }
   ],
   "source": [
    "SF = 1.4\n",
    "H_d = H * SF\n",
    "\n",
    "nominal_VR = n_1 / n_2\n",
    "\n",
    "print(f\"Design Power, H_d = {H_d} hp\")\n",
    "print(f\"Nominal VR = {nominal_VR}\")"
   ],
   "metadata": {
    "collapsed": false
   }
  },
  {
   "cell_type": "markdown",
   "source": [
    "Use Tables 7-14 to 7-16 to select a roller chain, given a few considerations. Specify 30-50 pitches for center distance, usually trial 40.\n",
    "\n",
    "![Table 7-14](images/table_7_14.png)\n",
    "![Table 7-15](images/table_7_15.png)\n",
    "![Table 7-16](images/table_7_16.png)\n",
    "![Roller Chain Considerations](images/roller_chain_considerations.png)"
   ],
   "metadata": {
    "collapsed": false
   }
  },
  {
   "cell_type": "markdown",
   "source": [
    "![Roller Chain Equations](images/roller_chain_length.png)\n",
    "![Roller Chain Equations](images/roller_chain_wrap_angles.png)\n",
    "![Roller Chain Equations](images/sprocket_roller_chain_sizes.png)\n",
    "![Roller Chain Equations](images/roller_chain_cd.png)"
   ],
   "metadata": {
    "collapsed": false
   }
  },
  {
   "cell_type": "code",
   "execution_count": 20,
   "outputs": [
    {
     "name": "stdout",
     "output_type": "stream",
     "text": [
      "Velocity Ratio, VR = 0.500\n",
      "PD_1 = 11.16 in\n",
      "PD_2 = 22.29 in\n",
      "Nominal CD = 40.0 in\n",
      "Nominal Length, L = 134 pitches\n",
      "Actual CD, CD = 40.366 pitches = 40.366 in\n",
      "Wrap Angle 1, theta_1 = 164.24 degrees\n",
      "Wrap Angle 2, theta_2 = 195.76 degrees\n",
      "Safety Factor = 1.072\n"
     ]
    }
   ],
   "source": [
    "N_1 = 35\n",
    "N_2 = math.ceil(N_1 * nominal_VR)\n",
    "\n",
    "H_a = 60.05             # hp\n",
    "P = 1.00                # inch\n",
    "\n",
    "n_pitches = 40\n",
    "nominal_CD = 40 * P     # inch\n",
    "\n",
    "L = math.ceil(2 * nominal_CD + (N_2 + N_1) / 2 + math.pow(N_2 - N_1, 2) / (4 * math.pow(math.pi, 2) * nominal_CD))\n",
    "VR = N_1 / N_2\n",
    "PD_1 = P / math.sin(math.pi / N_1)  # inch\n",
    "PD_2 = P / math.sin(math.pi / N_2)  # inch\n",
    "\n",
    "CD = (1./4.) * (L - (N_2 + N_1) / 2 + math.sqrt(math.pow(L - (N_2 + N_1) / 2, 2) - 8 * math.pow(N_2 - N_1, 2) / (4 * math.pow(math.pi, 2))))\n",
    "\n",
    "theta_1 = 180 - (2 * math.sin((PD_2 - PD_1) / (2 * CD))) / 0.01745  # degrees\n",
    "theta_2 = 180 + (2 * math.sin((PD_2 - PD_1) / (2 * CD))) / 0.01745  # degrees\n",
    "\n",
    "FS = H_a / H_d\n",
    "\n",
    "print(f\"Velocity Ratio, VR = {VR:.3f}\")\n",
    "print(f\"PD_1 = {PD_1:.2f} in\")\n",
    "print(f\"PD_2 = {PD_2:.2f} in\")\n",
    "print(f\"Nominal CD = {nominal_CD} in\")\n",
    "print(f\"Nominal Length, L = {L} pitches\")\n",
    "print(f\"Actual CD, CD = {CD:.3f} pitches = {CD * P:.3f} in\")\n",
    "print(f\"Wrap Angle 1, theta_1 = {theta_1:.2f} degrees\")\n",
    "print(f\"Wrap Angle 2, theta_2 = {theta_2:.2f} degrees\")\n",
    "print(f\"Safety Factor = {FS:.3f}\")"
   ],
   "metadata": {
    "collapsed": false
   }
  },
  {
   "cell_type": "markdown",
   "source": [
    "Make sure both wrap angles are greater than 120 degrees!"
   ],
   "metadata": {
    "collapsed": false
   }
  }
 ],
 "metadata": {
  "kernelspec": {
   "display_name": "Python 3",
   "language": "python",
   "name": "python3"
  },
  "language_info": {
   "codemirror_mode": {
    "name": "ipython",
    "version": 2
   },
   "file_extension": ".py",
   "mimetype": "text/x-python",
   "name": "python",
   "nbconvert_exporter": "python",
   "pygments_lexer": "ipython2",
   "version": "2.7.6"
  }
 },
 "nbformat": 4,
 "nbformat_minor": 0
}
