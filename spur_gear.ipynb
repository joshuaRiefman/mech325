{
 "cells": [
  {
   "cell_type": "code",
   "execution_count": 11,
   "outputs": [],
   "source": [
    "import math"
   ],
   "metadata": {
    "collapsed": false
   }
  },
  {
   "cell_type": "markdown",
   "source": [
    "# Spur Gears\n",
    "\n",
    "Start by setting problem constants"
   ],
   "metadata": {
    "collapsed": false
   }
  },
  {
   "cell_type": "code",
   "execution_count": 19,
   "outputs": [],
   "source": [
    "n_P = 1200              # rpm\n",
    "P = 5                   # hp\n",
    "phi_d = 20              # degrees\n",
    "phi = phi_d * 0.01745   # rad"
   ],
   "metadata": {
    "collapsed": false
   }
  },
  {
   "cell_type": "markdown",
   "source": [
    "Find $K_o$ for your system.\n",
    "![Example Machines](images/shock_factor_machines.png)\n",
    "![Mott Table 9-1](images/shock_factor_table.png)"
   ],
   "metadata": {
    "collapsed": false
   }
  },
  {
   "cell_type": "code",
   "execution_count": 5,
   "metadata": {
    "collapsed": true
   },
   "outputs": [
    {
     "name": "stdout",
     "output_type": "stream",
     "text": [
      "From Table 9-1, K_o=1.5\n",
      "P_des = (P)(K_o) = 7.5 hp\n"
     ]
    }
   ],
   "source": [
    "K_o = 1.50\n",
    "P_des = P * K_o\n",
    "\n",
    "print(f\"From Table 9-1, K_o={K_o}\")\n",
    "print(f\"P_des = (P)(K_o) = {P_des} hp\")"
   ]
  },
  {
   "cell_type": "markdown",
   "source": [
    "Identify number of pinion teeth (between 17 and 20) and gear teeth to achieve the desired velocity ratio. Use Table 8-7 to ensure no interference occurs.\n",
    "![Mott Figure 8-7](images/figure_8_7.png)"
   ],
   "metadata": {
    "collapsed": false
   }
  },
  {
   "cell_type": "code",
   "execution_count": 10,
   "outputs": [
    {
     "name": "stdout",
     "output_type": "stream",
     "text": [
      "Trial N_P = 19 teeth\n",
      "Trial N_G = 59 teeth\n",
      "Velocity Ratio, VR = 3.11\n",
      "Gear Speed, n_G = 386.44 rpm\n"
     ]
    }
   ],
   "source": [
    "N_P = 19 # Number of Pinion Teeth\n",
    "N_G = 59 # Number of Gear Teeth\n",
    "\n",
    "VR = N_G / N_P\n",
    "n_G = n_P / VR\n",
    "\n",
    "print(f\"Trial N_P = {N_P} teeth\")\n",
    "print(f\"Trial N_G = {N_G} teeth\")\n",
    "print(f\"Velocity Ratio, VR = {VR:.3f}\")\n",
    "print(f\"Gear Speed, n_G = {n_G:.2f} rpm\")"
   ],
   "metadata": {
    "collapsed": false
   }
  },
  {
   "cell_type": "markdown",
   "source": [
    "Identify diametrical pitch with Figure 9-11 if it isn't specified by the problem.\n",
    "![Mott Figure 9-11](images/figure_9_11.png)"
   ],
   "metadata": {
    "collapsed": false
   }
  },
  {
   "cell_type": "code",
   "execution_count": 21,
   "outputs": [
    {
     "name": "stdout",
     "output_type": "stream",
     "text": [
      "Trial P_d = 12 teeth/inch\n",
      "Pinion Pitch Diameter: 1.5833333333333333 in\n",
      "Gear Pitch Diameter: 4.916666666666667 in\n",
      "Center Distance: 3.25 in\n",
      "Pitch Line Velocity: 497.41883681838385 ft/min\n",
      "Tangential Force: 331.71240770731873 lbf\n",
      "Radial Force: 120.70870625165716 lbf\n"
     ]
    }
   ],
   "source": [
    "P_d = 12  # teeth/inch\n",
    "\n",
    "D_P = N_P / P_d               # inch\n",
    "D_G = N_G / P_d               # inch\n",
    "C = (N_P + N_G) / (2 * P_d)   # inch\n",
    "V = math.pi * D_P * n_P / 12  # ft/min\n",
    "\n",
    "W_t = 33000 * P / V           # lbf\n",
    "W_r = W_t * math.tan(phi)     # lbf\n",
    "\n",
    "print(f\"Trial P_d = {P_d} teeth/inch\")\n",
    "print(f\"Pinion Pitch Diameter: {D_P} in\")\n",
    "print(f\"Gear Pitch Diameter: {D_G} in\")\n",
    "print(f\"Center Distance: {C} in\")\n",
    "print(f\"Pitch Line Velocity: {V} ft/min\")\n",
    "print(f\"Tangential Force: {W_t} lbf\")\n",
    "print(f\"Radial Force: {W_r} lbf\")"
   ],
   "metadata": {
    "collapsed": false
   }
  },
  {
   "cell_type": "markdown",
   "source": [
    "Choose the face width if not already set. Nominal is 12 / P_d."
   ],
   "metadata": {
    "collapsed": false
   }
  },
  {
   "cell_type": "code",
   "execution_count": 14,
   "outputs": [
    {
     "name": "stdout",
     "output_type": "stream",
     "text": [
      "Face Width: 1.0 in\n"
     ]
    }
   ],
   "source": [
    "F = 12 / P_d    # inch\n",
    "\n",
    "print(f\"Face Width: {F} in\")"
   ],
   "metadata": {
    "collapsed": false
   }
  },
  {
   "cell_type": "markdown",
   "source": [
    "If you are using steel, C_P = 2300. Use Table 9-5 to find A_v if it isn't given. Use Figure 9-16 to find K_v, use Figure 9-17 to find I, use Figure 9-12 to find C_pf, use Figure 9-10 to find J_P and J_G, use Figure 9-13 to find C_ma (default to commerical enclosed gear unit), use Table 9-2 to find K_s, assume K_b = 1.0 for a full-backed gear. We will trial SF = 1.00. Assume K_T = 1.00. Find K_R from Table 9-11, usually assuming 99% reliability.\n",
    "![Table 9-5](images/table_9_5.png)\n",
    "![Table 9-16](images/figure_9_16.png)\n",
    "![Figure 9-17](images/figure_9_17.png)\n",
    "![Figure 9-10](images/figure_9_10.png)\n",
    "![Figure 9-12](images/figure_9_12.png)\n",
    "![Figure 9-13](images/figure_9_13.png)\n",
    "![Table 9-2](images/table_9_2.png)\n",
    "![Table 9-11](images/table_9_11.png)"
   ],
   "metadata": {
    "collapsed": false
   }
  },
  {
   "cell_type": "code",
   "execution_count": 31,
   "outputs": [
    {
     "name": "stdout",
     "output_type": "stream",
     "text": [
      "K_m: 1.16\n"
     ]
    }
   ],
   "source": [
    "C_P = 2300\n",
    "K_v = 1.15\n",
    "I = 0.120\n",
    "J_P = 0.32\n",
    "J_G = 0.40\n",
    "C_pf = 0.01\n",
    "C_ma = 0.15\n",
    "K_m = 1 + C_pf + C_ma\n",
    "K_s = 1.00\n",
    "SF = 1.00\n",
    "K_R = 1.00\n",
    "K_b = 1.00\n",
    "K_T = 1.00\n",
    "\n",
    "print(f\"K_m: {K_m}\")"
   ],
   "metadata": {
    "collapsed": false
   }
  },
  {
   "cell_type": "markdown",
   "source": [
    "If design life isn't specified, find it with Table 9-12.\n",
    "![Table 9-12](images/table_9_12.png)"
   ],
   "metadata": {
    "collapsed": false
   }
  },
  {
   "cell_type": "code",
   "execution_count": 28,
   "outputs": [
    {
     "name": "stdout",
     "output_type": "stream",
     "text": [
      "N_cP = 10.8000 x 10^8 cycles\n",
      "N_cG = 3.4780 x 10^8 cycles\n"
     ]
    }
   ],
   "source": [
    "lifetime = 15000  # hr\n",
    "N_cP = 60 * lifetime * n_P\n",
    "N_cG = 60 * lifetime * n_G\n",
    "\n",
    "print(f\"N_cP = {N_cP / 1E8:.4f} x 10^8 cycles\")\n",
    "print(f\"N_cG = {N_cG / 1E8:.4f} x 10^8 cycles\")"
   ],
   "metadata": {
    "collapsed": false
   }
  },
  {
   "cell_type": "markdown",
   "source": [
    "Use Figure 9-21 to fine Y, use Figure 9-22 to find Z.\n",
    "![Figure 9-21](images/figure_9_21.png)\n",
    "![Figure 9-22](images/figure_9_22.png)"
   ],
   "metadata": {
    "collapsed": false
   }
  },
  {
   "cell_type": "code",
   "execution_count": 37,
   "outputs": [
    {
     "name": "stdout",
     "output_type": "stream",
     "text": [
      "Pinion Bending Stress Number, S_tP: 24890.869793337923 psi\n",
      "Gear Bending Stress Number, S_tG: 19912.69583467034 psi\n",
      "Allowable Pinion Bending Stress Number, S_atP: 26200.915571934656 psi\n",
      "Allowable Gear Bending Stress Number, S_atG: 20742.39149444827 psi\n",
      "Pinion Contact Stress Number, S_cP: 135942.55815136744 psi\n",
      "Gear Contact Stress Number, S_cG: 77144.7245708933 psi\n",
      "Allowable Pinion Contact Stress Number, S_acP: 149387.42653996422 psi\n",
      "Allowable Gear Contact Stress Number, S_acG: 91838.95782249203 psi\n",
      "Required Grade 1 Hardness for Pinion Contact: 373.5634364595162\n",
      "Required Grade 1 Hardness for Pinion Bending: 173.36242654507964\n",
      "Required Grade 1 Hardness for Gear Contact: 194.84148392078268\n",
      "Required Grade 1 Hardness for Gear Bending: 102.74762606013287\n",
      "Required Grade 2 Hardness for Pinion Contact: 329.7633998279777\n",
      "Required Grade 2 Hardness for Pinion Bending: 96.08740756798683\n",
      "Required Grade 2 Hardness for Gear Contact: 164.8680739899485\n",
      "Required Grade 2 Hardness for Gear Bending: 42.572465631845795\n"
     ]
    }
   ],
   "source": [
    "Y_NP = 0.95\n",
    "Y_NG = 0.96\n",
    "Z_NP = 0.91\n",
    "Z_NG = 0.84\n",
    "\n",
    "S_tP = W_t * P_d * K_o * K_s * K_v * K_m * K_b / (F * J_P)\n",
    "S_tG = W_t * P_d * K_o * K_s * K_v * K_m * K_b / (F * J_G)\n",
    "\n",
    "print(f\"Pinion Bending Stress Number, S_tP: {S_tP} psi\")\n",
    "print(f\"Gear Bending Stress Number, S_tG: {S_tG} psi\")\n",
    "\n",
    "S_atP = S_tP * SF * K_T * K_R / Y_NP\n",
    "S_atG = S_tG * SF * K_T * K_R / Y_NG\n",
    "\n",
    "print(f\"Allowable Pinion Bending Stress Number, S_atP: {S_atP} psi\")\n",
    "print(f\"Allowable Gear Bending Stress Number, S_atG: {S_atG} psi\")\n",
    "\n",
    "S_cP = C_P * math.sqrt(W_t * K_o * K_m * K_s * K_v / (F * D_P * I))\n",
    "S_cG = C_P * math.sqrt(W_t * K_o * K_m * K_s * K_v / (F * D_G * I))\n",
    "\n",
    "print(f\"Pinion Contact Stress Number, S_cP: {S_cP} psi\")\n",
    "print(f\"Gear Contact Stress Number, S_cG: {S_cG} psi\")\n",
    "\n",
    "S_acP = S_cP * SF * K_T * K_R / Z_NP\n",
    "S_acG = S_cG * SF * K_T * K_R / Z_NG\n",
    "\n",
    "print(f\"Allowable Pinion Contact Stress Number, S_acP: {S_acP} psi\")\n",
    "print(f\"Allowable Gear Contact Stress Number, S_acG: {S_acG} psi\")\n",
    "\n",
    "contact_hb_grade_1_pinion = (S_acP - 29100) / 322\n",
    "contact_hb_grade_1_gear = (S_acG - 29100) / 322\n",
    "\n",
    "contact_hb_grade_2_pinion = (S_acP - 34300) / 349\n",
    "contact_hb_grade_2_gear = (S_acG - 34300) / 349\n",
    "\n",
    "bending_hb_grade_1_pinion = (S_atP - 12800) / 77.3\n",
    "bending_hb_grade_1_gear = (S_atG - 12800) / 77.3\n",
    "\n",
    "bending_hb_grade_2_pinion = (S_atP - 16400) / 102\n",
    "bending_hb_grade_2_gear = (S_atG - 16400) / 102\n",
    "\n",
    "print(f\"Required Grade 1 Hardness for Pinion Contact: {contact_hb_grade_1_pinion}\")\n",
    "print(f\"Required Grade 1 Hardness for Pinion Bending: {bending_hb_grade_1_pinion}\")\n",
    "print(f\"Required Grade 1 Hardness for Gear Contact: {contact_hb_grade_1_gear}\")\n",
    "print(f\"Required Grade 1 Hardness for Gear Bending: {bending_hb_grade_1_gear}\")\n",
    "print(f\"Required Grade 2 Hardness for Pinion Contact: {contact_hb_grade_2_pinion}\")\n",
    "print(f\"Required Grade 2 Hardness for Pinion Bending: {bending_hb_grade_2_pinion}\")\n",
    "print(f\"Required Grade 2 Hardness for Gear Contact: {contact_hb_grade_2_gear}\")\n",
    "print(f\"Required Grade 2 Hardness for Gear Bending: {bending_hb_grade_2_gear}\")"
   ],
   "metadata": {
    "collapsed": false
   }
  },
  {
   "cell_type": "markdown",
   "source": [
    "Now, identify a material and specify it's Birnell hardness. Safety factors are calculated assuming grade 1 steel."
   ],
   "metadata": {
    "collapsed": false
   }
  },
  {
   "cell_type": "code",
   "execution_count": 43,
   "outputs": [
    {
     "name": "stdout",
     "output_type": "stream",
     "text": [
      "Final Adjusted Contact Stress Strength, S_acP: 145986 psi\n",
      "Final Adjusted Bending Stress Strength, S_atP: 40859.899999999994 psi\n",
      "Pinion SF: 1.5594836710121474\n",
      "Gear SF: 1.969874110752186\n",
      "Pinion SH: 0.977230837837251\n",
      "Pinion SH: 1.589586853567789\n"
     ]
    }
   ],
   "source": [
    "H_B = 363\n",
    "\n",
    "S_ac_final = H_B * 322 + 29100\n",
    "S_at_final = H_B * 77.3 + 12800\n",
    "\n",
    "print(f\"Final Adjusted Contact Stress Strength, S_acP: {S_ac_final} psi\")\n",
    "print(f\"Final Adjusted Bending Stress Strength, S_atP: {S_at_final} psi\")\n",
    "\n",
    "# S_acG_2 = S_acP_2 = H_B * 349 + 34300\n",
    "# S_acG_2 = S_acP_2 = H_B * 102 + 16400\n",
    "\n",
    "SF_P_final = S_at_final * Y_NP / (S_tP * K_R)\n",
    "SF_G_final = S_at_final * Y_NG / (S_tG * K_R)\n",
    "\n",
    "SH_P_final = S_ac_final * Z_NP / (S_cP * K_R * K_T)\n",
    "SH_G_final = S_ac_final * Z_NG / (S_cG * K_R * K_T)\n",
    "\n",
    "print(f\"Pinion SF: {SF_P_final}\")\n",
    "print(f\"Gear SF: {SF_G_final}\")\n",
    "print(f\"Pinion SH: {SH_P_final}\")\n",
    "print(f\"Pinion SH: {SH_G_final}\")"
   ],
   "metadata": {
    "collapsed": false
   }
  },
  {
   "cell_type": "markdown",
   "source": [],
   "metadata": {
    "collapsed": false
   }
  }
 ],
 "metadata": {
  "kernelspec": {
   "display_name": "Python 3",
   "language": "python",
   "name": "python3"
  },
  "language_info": {
   "codemirror_mode": {
    "name": "ipython",
    "version": 2
   },
   "file_extension": ".py",
   "mimetype": "text/x-python",
   "name": "python",
   "nbconvert_exporter": "python",
   "pygments_lexer": "ipython2",
   "version": "2.7.6"
  }
 },
 "nbformat": 4,
 "nbformat_minor": 0
}
