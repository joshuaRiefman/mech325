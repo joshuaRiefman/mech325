{
 "cells": [
  {
   "cell_type": "code",
   "execution_count": 4,
   "outputs": [],
   "source": [
    "import math"
   ],
   "metadata": {
    "collapsed": false
   }
  },
  {
   "cell_type": "markdown",
   "source": [
    "# Helical Gears\n",
    "\n",
    "Start by setting problem constants. You may need to swap tangential and normal pressure angle."
   ],
   "metadata": {
    "collapsed": false
   }
  },
  {
   "cell_type": "code",
   "execution_count": 7,
   "outputs": [],
   "source": [
    "n_P = 1200              # rpm\n",
    "P = 5                   # hp\n",
    "phi_n_d = 20            # degrees\n",
    "psi_d = 25              # degrees\n",
    "\n",
    "\n",
    "phi_n = phi_n_d * 0.01745   # rad\n",
    "psi = psi_d * 0.01745       # rad"
   ],
   "metadata": {
    "collapsed": false
   }
  },
  {
   "cell_type": "markdown",
   "source": [
    "Find $K_o$ for your system.\n",
    "![Example Machines](images/shock_factor_machines.png)\n",
    "![Mott Table 9-1](images/shock_factor_table.png)"
   ],
   "metadata": {
    "collapsed": false
   }
  },
  {
   "cell_type": "code",
   "execution_count": 2,
   "metadata": {
    "collapsed": true
   },
   "outputs": [
    {
     "name": "stdout",
     "output_type": "stream",
     "text": [
      "From Table 9-1, K_o=1.5\n",
      "P_des = (P)(K_o) = 7.5 hp\n"
     ]
    }
   ],
   "source": [
    "K_o = 1.50\n",
    "P_des = P * K_o\n",
    "\n",
    "print(f\"From Table 9-1, K_o={K_o}\")\n",
    "print(f\"P_des = (P)(K_o) = {P_des} hp\")"
   ]
  },
  {
   "cell_type": "markdown",
   "source": [
    "If you need to choose P_nd, guess 12. If you need to choose N_P, guess 24. P_d = P_nd cos(psi)"
   ],
   "metadata": {
    "collapsed": false
   }
  },
  {
   "cell_type": "code",
   "execution_count": 15,
   "outputs": [
    {
     "name": "stdout",
     "output_type": "stream",
     "text": [
      "Trial N_P = 19 teeth\n",
      "Trial N_G = 59 teeth\n",
      "Velocity Ratio, VR = 3.105\n",
      "Gear Speed, n_G = 386.44 rpm\n",
      "Axial Pitch, p_x = 0.710 in\n",
      "Tangential Pressure Angle, phi_t = 21.880 degrees\n"
     ]
    }
   ],
   "source": [
    "N_P = 19 # Number of Pinion Teeth\n",
    "N_G = 59 # Number of Gear Teeth\n",
    "P_d = 12 # teeth/in\n",
    "\n",
    "p_x = math.pi / (P_d * math.tan(psi))               # inch\n",
    "phi_t = math.atan(math.tan(phi_n) / math.cos(psi))  # rad\n",
    "phi_t_d = phi_t / 0.01745                           # degrees\n",
    "\n",
    "VR = N_G / N_P\n",
    "n_G = n_P / VR\n",
    "\n",
    "print(f\"Trial N_P = {N_P} teeth\")\n",
    "print(f\"Trial N_G = {N_G} teeth\")\n",
    "print(f\"Velocity Ratio, VR = {VR:.3f}\")\n",
    "print(f\"Gear Speed, n_G = {n_G:.2f} rpm\")\n",
    "print(f\"Axial Pitch, p_x = {p_x:.3f} in\")\n",
    "print(f\"Tangential Pressure Angle, phi_t = {phi_t_d:.3f} degrees\")"
   ],
   "metadata": {
    "collapsed": false
   }
  },
  {
   "cell_type": "markdown",
   "source": [
    "The face width should be minimum 2.0 times the axial pitch."
   ],
   "metadata": {
    "collapsed": false
   }
  },
  {
   "cell_type": "code",
   "execution_count": 16,
   "outputs": [
    {
     "name": "stdout",
     "output_type": "stream",
     "text": [
      "Trial P_d = 12 teeth/inch\n",
      "Pinion Pitch Diameter: 1.5833333333333333 in\n",
      "Gear Pitch Diameter: 4.916666666666667 in\n",
      "Center Distance: 3.25 in\n",
      "Face Width is: 1.439 in\n",
      "Pitch Line Velocity: 497.41883681838385 ft/min\n",
      "Tangential Force: 331.71240770731873 lbf\n",
      "Axial Force: 154.6467959398823 lbf\n",
      "Radial Force: 133.18220959885977 lbf\n"
     ]
    }
   ],
   "source": [
    "D_P = N_P / P_d               # inch\n",
    "D_G = N_G / P_d               # inch\n",
    "C = (N_P + N_G) / (2 * P_d)   # inch\n",
    "V = math.pi * D_P * n_P / 12  # ft/min\n",
    "F = 2.0 * p_x                 # in\n",
    "\n",
    "W_t = 33000 * P / V           # lbf\n",
    "W_a = W_t * math.tan(psi)     # lbf\n",
    "W_r = W_t * math.tan(phi_t)   # lbf\n",
    "\n",
    "print(f\"Trial P_d = {P_d} teeth/inch\")\n",
    "print(f\"Pinion Pitch Diameter: {D_P} in\")\n",
    "print(f\"Gear Pitch Diameter: {D_G} in\")\n",
    "print(f\"Center Distance: {C} in\")\n",
    "print(f\"Face Width is: {F} in\")\n",
    "print(f\"Pitch Line Velocity: {V} ft/min\")\n",
    "print(f\"Tangential Force: {W_t} lbf\")\n",
    "print(f\"Axial Force: {W_a} lbf\")\n",
    "print(f\"Radial Force: {W_r} lbf\")"
   ],
   "metadata": {
    "collapsed": false
   }
  },
  {
   "cell_type": "markdown",
   "source": [
    "Evaluate the geometry factors using Figure 10-5 for phi_n = 15deg, or Figure 10-6 for phi_n = 20deg. Use the correction factors if N_G != 75.\n",
    "![Figure 10-5](images/figure_10_5.png)\n",
    "![Figure 10-6](images/figure_10_6.png)"
   ],
   "metadata": {
    "collapsed": false
   }
  },
  {
   "cell_type": "code",
   "execution_count": 17,
   "outputs": [],
   "source": [
    "J_P = 0.427\n",
    "J_G = 0.479"
   ],
   "metadata": {
    "collapsed": false
   }
  },
  {
   "cell_type": "markdown",
   "source": [
    "Use Table 10-1 or Table 10-2 to find I.\n",
    "![Table 10-1](images/table_10_1.png)\n",
    "![Table 10-2](images/table_10_2.png)"
   ],
   "metadata": {
    "collapsed": false
   }
  },
  {
   "cell_type": "code",
   "execution_count": 18,
   "outputs": [],
   "source": [
    "I = 0.203"
   ],
   "metadata": {
    "collapsed": false
   }
  },
  {
   "cell_type": "markdown",
   "source": [
    "If you are using steel, C_P = 2300. Use Table 9-5 to find A_v if it isn't given. Use Figure 9-16 to find K_v, use Figure 9-12 to find C_pf, use Figure 9-13 to find C_ma (default to commerical enclosed gear unit), use Table 9-2 to find K_s, assume K_b = 1.0 for a full-backed gear. We will trial SF = 1.00. Assume K_T = 1.00. Find K_R from Table 9-11, usually assuming 99% reliability.\n",
    "![Table 9-5](images/table_9_5.png)\n",
    "![Table 9-16](images/figure_9_16.png)\n",
    "![Figure 9-12](images/figure_9_12.png)\n",
    "![Figure 9-13](images/figure_9_13.png)\n",
    "![Table 9-2](images/table_9_2.png)\n",
    "![Table 9-11](images/table_9_11.png)"
   ],
   "metadata": {
    "collapsed": false
   }
  },
  {
   "cell_type": "code",
   "execution_count": 19,
   "outputs": [
    {
     "name": "stdout",
     "output_type": "stream",
     "text": [
      "K_m: 1.21\n"
     ]
    }
   ],
   "source": [
    "C_P = 2300\n",
    "K_v = 1.15\n",
    "C_pf = 0.06\n",
    "C_ma = 0.15\n",
    "K_m = 1 + C_pf + C_ma\n",
    "K_s = 1.00\n",
    "SF = 1.00\n",
    "K_R = 1.00\n",
    "K_b = 1.00\n",
    "K_T = 1.00\n",
    "\n",
    "print(f\"K_m: {K_m}\")"
   ],
   "metadata": {
    "collapsed": false
   }
  },
  {
   "cell_type": "markdown",
   "source": [
    "If design life isn't specified, find it with Table 9-12.\n",
    "![Table 9-12](images/table_9_12.png)"
   ],
   "metadata": {
    "collapsed": false
   }
  },
  {
   "cell_type": "code",
   "execution_count": 20,
   "outputs": [
    {
     "name": "stdout",
     "output_type": "stream",
     "text": [
      "N_cP = 10.8000 x 10^8 cycles\n",
      "N_cG = 3.4780 x 10^8 cycles\n"
     ]
    }
   ],
   "source": [
    "lifetime = 15000  # hr\n",
    "N_cP = 60 * lifetime * n_P\n",
    "N_cG = 60 * lifetime * n_G\n",
    "\n",
    "print(f\"N_cP = {N_cP / 1E8:.4f} x 10^8 cycles\")\n",
    "print(f\"N_cG = {N_cG / 1E8:.4f} x 10^8 cycles\")"
   ],
   "metadata": {
    "collapsed": false
   }
  },
  {
   "cell_type": "markdown",
   "source": [
    "Use Figure 9-21 to find Y, use Figure 9-22 to find Z.\n",
    "![Figure 9-21](images/figure_9_21.png)\n",
    "![Figure 9-22](images/figure_9_22.png)"
   ],
   "metadata": {
    "collapsed": false
   }
  },
  {
   "cell_type": "code",
   "execution_count": 21,
   "outputs": [
    {
     "name": "stdout",
     "output_type": "stream",
     "text": [
      "Pinion Bending Stress Number, S_tP: 13521.621142455502 psi\n",
      "Gear Bending Stress Number, S_tG: 12053.72072615553 psi\n",
      "Allowable Pinion Bending Stress Number, S_atP: 14233.285413111056 psi\n",
      "Allowable Gear Bending Stress Number, S_atG: 12555.959089745345 psi\n",
      "Pinion Contact Stress Number, S_cP: 88987.97739366359 psi\n",
      "Gear Contact Stress Number, S_cG: 50498.924689288 psi\n",
      "Allowable Pinion Contact Stress Number, S_acP: 97788.98614688306 psi\n",
      "Allowable Gear Contact Stress Number, S_acG: 60117.76748724762 psi\n",
      "Required Grade 1 Hardness for Pinion Contact: 213.31983275429522\n",
      "Required Grade 1 Hardness for Pinion Bending: 18.54185527957382\n",
      "Required Grade 1 Hardness for Gear Contact: 96.32847045729075\n",
      "Required Grade 1 Hardness for Gear Bending: -3.157062228391392\n",
      "Required Grade 2 Hardness for Pinion Contact: 181.91686575038128\n",
      "Required Grade 2 Hardness for Pinion Bending: -21.242299871460233\n",
      "Required Grade 2 Hardness for Gear Contact: 73.97641113824533\n",
      "Required Grade 2 Hardness for Gear Bending: -37.68667559073191\n"
     ]
    }
   ],
   "source": [
    "Y_NP = 0.95\n",
    "Y_NG = 0.96\n",
    "Z_NP = 0.91\n",
    "Z_NG = 0.84\n",
    "\n",
    "S_tP = W_t * P_d * K_o * K_s * K_v * K_m * K_b / (F * J_P)\n",
    "S_tG = W_t * P_d * K_o * K_s * K_v * K_m * K_b / (F * J_G)\n",
    "\n",
    "print(f\"Pinion Bending Stress Number, S_tP: {S_tP} psi\")\n",
    "print(f\"Gear Bending Stress Number, S_tG: {S_tG} psi\")\n",
    "\n",
    "S_atP = S_tP * SF * K_T * K_R / Y_NP\n",
    "S_atG = S_tG * SF * K_T * K_R / Y_NG\n",
    "\n",
    "print(f\"Allowable Pinion Bending Stress Number, S_atP: {S_atP} psi\")\n",
    "print(f\"Allowable Gear Bending Stress Number, S_atG: {S_atG} psi\")\n",
    "\n",
    "S_cP = C_P * math.sqrt(W_t * K_o * K_m * K_s * K_v / (F * D_P * I))\n",
    "S_cG = C_P * math.sqrt(W_t * K_o * K_m * K_s * K_v / (F * D_G * I))\n",
    "\n",
    "print(f\"Pinion Contact Stress Number, S_cP: {S_cP} psi\")\n",
    "print(f\"Gear Contact Stress Number, S_cG: {S_cG} psi\")\n",
    "\n",
    "S_acP = S_cP * SF * K_T * K_R / Z_NP\n",
    "S_acG = S_cG * SF * K_T * K_R / Z_NG\n",
    "\n",
    "print(f\"Allowable Pinion Contact Stress Number, S_acP: {S_acP} psi\")\n",
    "print(f\"Allowable Gear Contact Stress Number, S_acG: {S_acG} psi\")\n",
    "\n",
    "contact_hb_grade_1_pinion = (S_acP - 29100) / 322\n",
    "contact_hb_grade_1_gear = (S_acG - 29100) / 322\n",
    "\n",
    "contact_hb_grade_2_pinion = (S_acP - 34300) / 349\n",
    "contact_hb_grade_2_gear = (S_acG - 34300) / 349\n",
    "\n",
    "bending_hb_grade_1_pinion = (S_atP - 12800) / 77.3\n",
    "bending_hb_grade_1_gear = (S_atG - 12800) / 77.3\n",
    "\n",
    "bending_hb_grade_2_pinion = (S_atP - 16400) / 102\n",
    "bending_hb_grade_2_gear = (S_atG - 16400) / 102\n",
    "\n",
    "print(f\"Required Grade 1 Hardness for Pinion Contact: {contact_hb_grade_1_pinion}\")\n",
    "print(f\"Required Grade 1 Hardness for Pinion Bending: {bending_hb_grade_1_pinion}\")\n",
    "print(f\"Required Grade 1 Hardness for Gear Contact: {contact_hb_grade_1_gear}\")\n",
    "print(f\"Required Grade 1 Hardness for Gear Bending: {bending_hb_grade_1_gear}\")\n",
    "print(f\"Required Grade 2 Hardness for Pinion Contact: {contact_hb_grade_2_pinion}\")\n",
    "print(f\"Required Grade 2 Hardness for Pinion Bending: {bending_hb_grade_2_pinion}\")\n",
    "print(f\"Required Grade 2 Hardness for Gear Contact: {contact_hb_grade_2_gear}\")\n",
    "print(f\"Required Grade 2 Hardness for Gear Bending: {bending_hb_grade_2_gear}\")"
   ],
   "metadata": {
    "collapsed": false
   }
  },
  {
   "cell_type": "markdown",
   "source": [
    "Now, identify a material and specify it's Birnell hardness. Safety factors are calculated assuming grade 1 steel."
   ],
   "metadata": {
    "collapsed": false
   }
  },
  {
   "cell_type": "code",
   "execution_count": 22,
   "outputs": [
    {
     "name": "stdout",
     "output_type": "stream",
     "text": [
      "Final Adjusted Contact Stress Strength, S_acP: 145986 psi\n",
      "Final Adjusted Bending Stress Strength, S_atP: 40859.899999999994 psi\n",
      "Pinion SF: 2.8707286346103698\n",
      "Gear SF: 3.254223728187434\n",
      "Pinion SH: 1.4928675073972344\n",
      "Pinion SH: 2.428333687390621\n"
     ]
    }
   ],
   "source": [
    "H_B = 363\n",
    "\n",
    "S_ac_final = H_B * 322 + 29100\n",
    "S_at_final = H_B * 77.3 + 12800\n",
    "\n",
    "print(f\"Final Adjusted Contact Stress Strength, S_acP: {S_ac_final} psi\")\n",
    "print(f\"Final Adjusted Bending Stress Strength, S_atP: {S_at_final} psi\")\n",
    "\n",
    "# S_acG_2 = S_acP_2 = H_B * 349 + 34300\n",
    "# S_acG_2 = S_acP_2 = H_B * 102 + 16400\n",
    "\n",
    "SF_P_final = S_at_final * Y_NP / (S_tP * K_R)\n",
    "SF_G_final = S_at_final * Y_NG / (S_tG * K_R)\n",
    "\n",
    "SH_P_final = S_ac_final * Z_NP / (S_cP * K_R * K_T)\n",
    "SH_G_final = S_ac_final * Z_NG / (S_cG * K_R * K_T)\n",
    "\n",
    "print(f\"Pinion SF: {SF_P_final}\")\n",
    "print(f\"Gear SF: {SF_G_final}\")\n",
    "print(f\"Pinion SH: {SH_P_final}\")\n",
    "print(f\"Pinion SH: {SH_G_final}\")"
   ],
   "metadata": {
    "collapsed": false
   }
  },
  {
   "cell_type": "markdown",
   "source": [],
   "metadata": {
    "collapsed": false
   }
  }
 ],
 "metadata": {
  "kernelspec": {
   "display_name": "Python 3",
   "language": "python",
   "name": "python3"
  },
  "language_info": {
   "codemirror_mode": {
    "name": "ipython",
    "version": 2
   },
   "file_extension": ".py",
   "mimetype": "text/x-python",
   "name": "python",
   "nbconvert_exporter": "python",
   "pygments_lexer": "ipython2",
   "version": "2.7.6"
  }
 },
 "nbformat": 4,
 "nbformat_minor": 0
}
